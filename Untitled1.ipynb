{
 "cells": [
  {
   "cell_type": "code",
   "execution_count": null,
   "id": "c1e0ed67-1066-4f5b-af2c-4b10d52aef9f",
   "metadata": {
    "jupyter": {
     "source_hidden": true
    },
    "tags": []
   },
   "outputs": [],
   "source": []
  },
  {
   "cell_type": "code",
   "execution_count": 4,
   "id": "5f4ca82a-59d7-4c3c-af8a-08c137f214ca",
   "metadata": {},
   "outputs": [
    {
     "name": "stdout",
     "output_type": "stream",
     "text": [
      "0: Object (DummyInterface): Surface(lbl='Obj', profile=Spherical(c=0.0), interact_mode='dummy')\n",
      "1: Object space (AirGap): Gap(t=10000000000.0, medium=<opticalglass.opticalmedium.Air object at 0x7fabe913e340>)\n",
      "2: CE2 (CementedElement): CementedElement: [1, 2, 3]\n",
      "3: Image space (AirGap): Gap(t=5, medium=<opticalglass.opticalmedium.Air object at 0x7fabe913e340>)\n",
      "4: Image (DummyInterface): Surface(lbl='Img', profile=Spherical(c=0.0), interact_mode='dummy')\n",
      "              r            t        medium     mode   zdr      sd\n",
      "  Obj:     0.000000  1.00000e+10       air             1      0.0000\n",
      "    1:    65.220000      9.60000    N-SSK8             1      19.500\n",
      "    2:   -62.030000      4.20000    N-SF10             1      19.500\n",
      "    3: -1240.670000      5.00000       air             1      19.500\n",
      "    4:   250.000000      2.50000   670.420             1     0.44161\n",
      "    5:   -50.000000      7.00000       air             1     0.43360\n",
      "  Img:     0.000000      0.00000                       1     0.35545\n"
     ]
    }
   ],
   "source": [
    "from rayoptics.environment import *\n",
    "\n",
    "opm = OpticalModel()\n",
    "opm.radius_mode = True\n",
    "    \n",
    "sm = opm['seq_model']   \n",
    "em = opm['ele_model']    \n",
    "    \n",
    "sm.gaps[0].thi = 1e10\n",
    "       \n",
    "opm.add_from_file('/Users/joshreich/src/lensStack/zmax_32921.zmx', t=5) # 40x120 ACH                                     \n",
    "\n",
    "sm.add_surface([250.0, 2.5, 1.67, 42, 30])\n",
    "sm.add_surface([-50.0, 7])\n",
    "    \n",
    "opm.update_model()\n",
    "\n",
    "em.list_elements()\n",
    "sm.list_model()"
   ]
  },
  {
   "cell_type": "code",
   "execution_count": 5,
   "id": "47901ed6-7717-4bd2-b224-f0e44d67f328",
   "metadata": {},
   "outputs": [
    {
     "name": "stdout",
     "output_type": "stream",
     "text": [
      "0: Object (DummyInterface): Surface(lbl='Obj', profile=Spherical(c=0.0), interact_mode='dummy')\n",
      "1: Object space (AirGap): Gap(t=10000000000.0, medium=<opticalglass.opticalmedium.Air object at 0x7fabe913e340>)\n",
      "2: E3 (Element): Element: Spherical(c=0.004), Spherical(c=-0.02), t=2.5000, sd=0.5000, glass: 670.420\n",
      "3: Image (DummyInterface): Surface(lbl='Img', profile=Spherical(c=0.0), interact_mode='dummy')\n",
      "4: Image space (AirGap): Gap(t=7, medium=<opticalglass.opticalmedium.Air object at 0x7fabfb9a1970>)\n",
      "              r            t        medium     mode   zdr      sd\n",
      "  Obj:     0.000000  1.00000e+10       air             1      0.0000\n",
      "    1:   250.000000      2.50000   670.420             1     0.50000\n",
      "    2:   -50.000000      7.00000       air             1     0.49800\n",
      "  Img:     0.000000      0.00000                       1     0.44188\n"
     ]
    }
   ],
   "source": [
    "opm = OpticalModel()\n",
    "opm.radius_mode = True\n",
    "    \n",
    "sm = opm['seq_model']   \n",
    "em = opm['ele_model']    \n",
    "    \n",
    "sm.gaps[0].thi = 1e10\n",
    "\n",
    "# REMOVE THE ADD_FROM_FILE\n",
    "\n",
    "# opm.add_from_file('/Users/joshreich/src/lensStack/zmax_32921.zmx', t=5) # 40x120 ACH                                     \n",
    "\n",
    "sm.add_surface([250.0, 2.5, 1.67, 42, 30])\n",
    "sm.add_surface([-50.0, 7])\n",
    "    \n",
    "opm.update_model()\n",
    "\n",
    "em.list_elements()\n",
    "sm.list_model()"
   ]
  },
  {
   "cell_type": "code",
   "execution_count": null,
   "id": "49faf567-ee28-4d96-bcc3-68915e78b2c2",
   "metadata": {},
   "outputs": [],
   "source": []
  }
 ],
 "metadata": {
  "kernelspec": {
   "display_name": "Python 3 (ipykernel)",
   "language": "python",
   "name": "python3"
  },
  "language_info": {
   "codemirror_mode": {
    "name": "ipython",
    "version": 3
   },
   "file_extension": ".py",
   "mimetype": "text/x-python",
   "name": "python",
   "nbconvert_exporter": "python",
   "pygments_lexer": "ipython3",
   "version": "3.9.7"
  }
 },
 "nbformat": 4,
 "nbformat_minor": 5
}
